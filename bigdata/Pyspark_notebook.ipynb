{
 "cells": [
  {
   "cell_type": "code",
   "execution_count": 24,
   "metadata": {},
   "outputs": [],
   "source": [
    "from pyspark.sql import SparkSession\n",
    "from pyspark.sql import Row\n",
    "from pyspark.sql.types import StructType, StructField, IntegerType, StringType\n",
    "\n",
    "import os\n",
    "\n",
    "# Définir la variable d'environnement JAVA_HOME\n",
    "os.environ['JAVA_HOME'] = r\"C:\\Users\\Zakaria-Laptop\\AppData\\Local\\Programs\\Eclipse Adoptium\\jdk-21.0.5.11-hotspot\""
   ]
  },
  {
   "cell_type": "code",
   "execution_count": 2,
   "metadata": {},
   "outputs": [],
   "source": [
    "# spark session\n",
    "spark = SparkSession.builder.appName(\"PySparkExercise\").getOrCreate()"
   ]
  },
  {
   "cell_type": "code",
   "execution_count": 28,
   "metadata": {},
   "outputs": [
    {
     "name": "stdout",
     "output_type": "stream",
     "text": [
      "Downloading from https://www.kaggle.com/api/v1/datasets/download/foridurrahman/finalcial-analysis-quantitative-data?dataset_version_number=1...\n"
     ]
    },
    {
     "name": "stderr",
     "output_type": "stream",
     "text": [
      "100%|██████████| 84.0k/84.0k [00:00<00:00, 431kB/s]"
     ]
    },
    {
     "name": "stdout",
     "output_type": "stream",
     "text": [
      "Extracting files...\n",
      "Path to dataset files: C:\\Users\\Zakaria-Laptop\\.cache\\kagglehub\\datasets\\foridurrahman\\finalcial-analysis-quantitative-data\\versions\\1\n"
     ]
    },
    {
     "name": "stderr",
     "output_type": "stream",
     "text": [
      "\n"
     ]
    }
   ],
   "source": [
    "import kagglehub\n",
    "\n",
    "# Download latest version\n",
    "path = kagglehub.dataset_download(\"foridurrahman/finalcial-analysis-quantitative-data\")\n",
    "\n",
    "print(\"Path to dataset files:\", path)"
   ]
  },
  {
   "cell_type": "code",
   "execution_count": 124,
   "metadata": {},
   "outputs": [
    {
     "name": "stdout",
     "output_type": "stream",
     "text": [
      "+----------+-------+-----------+---------------+----------+---------------------+------------+-------------+-----------+------------+------------+------------+----------+------------+------------+----+\n",
      "|   Segment|Country|   Product | Discount Band |Units Sold| Manufacturing Price | Sale Price | Gross Sales | Discounts |      Sales |       COGS |     Profit |      Date|Month Number| Month Name |Year|\n",
      "+----------+-------+-----------+---------------+----------+---------------------+------------+-------------+-----------+------------+------------+------------+----------+------------+------------+----+\n",
      "|Government| Canada| Carretera |          None |    1618,5|               $3,00 |     $20,00 |  $32 370,00 |      $-   | $32 370,00 | $16 185,00 | $16 185,00 |01/01/2014|           1|    January |2014|\n",
      "|Government|Germany| Carretera |          None |      1321|               $3,00 |     $20,00 |  $26 420,00 |      $-   | $26 420,00 | $13 210,00 | $13 210,00 |01/01/2014|           1|    January |2014|\n",
      "| Midmarket| France| Carretera |          None |      2178|               $3,00 |     $15,00 |  $32 670,00 |      $-   | $32 670,00 | $21 780,00 | $10 890,00 |01/06/2014|           6|       June |2014|\n",
      "| Midmarket|Germany| Carretera |          None |       888|               $3,00 |     $15,00 |  $13 320,00 |      $-   | $13 320,00 |  $8 880,00 |  $4 440,00 |01/06/2014|           6|       June |2014|\n",
      "| Midmarket| Mexico| Carretera |          None |      2470|               $3,00 |     $15,00 |  $37 050,00 |      $-   | $37 050,00 | $24 700,00 | $12 350,00 |01/06/2014|           6|       June |2014|\n",
      "+----------+-------+-----------+---------------+----------+---------------------+------------+-------------+-----------+------------+------------+------------+----------+------------+------------+----+\n",
      "only showing top 5 rows\n",
      "\n"
     ]
    }
   ],
   "source": [
    "file_path = \"C:\\\\Users\\\\Zakaria-Laptop\\\\.cache\\\\kagglehub\\\\datasets\\\\foridurrahman\\\\finalcial-analysis-quantitative-data\\\\versions\\\\1\\\\finalcial analysis quantitative data.csv\"\n",
    "\n",
    "# read data\n",
    "financial_df = spark.read.csv(file_path, header=True, inferSchema=True, sep=\";\")\n",
    "financial_df.show(5)"
   ]
  },
  {
   "cell_type": "code",
   "execution_count": 125,
   "metadata": {},
   "outputs": [
    {
     "name": "stdout",
     "output_type": "stream",
     "text": [
      "+----------+-------+-----------+-------------+----------+-------------------+----------+------------+---------+------------+------------+------------+----------+------------+----------+----+\n",
      "|   Segment|Country|    Product|Discount Band|Units Sold|Manufacturing Price|Sale Price| Gross Sales|Discounts|       Sales|        COGS|      Profit|      Date|Month Number|Month Name|Year|\n",
      "+----------+-------+-----------+-------------+----------+-------------------+----------+------------+---------+------------+------------+------------+----------+------------+----------+----+\n",
      "|Government| Canada| Carretera |        None |    1618,5|             $3,00 |   $20,00 | $32 370,00 |    $-   | $32 370,00 | $16 185,00 | $16 185,00 |01/01/2014|           1|  January |2014|\n",
      "|Government|Germany| Carretera |        None |      1321|             $3,00 |   $20,00 | $26 420,00 |    $-   | $26 420,00 | $13 210,00 | $13 210,00 |01/01/2014|           1|  January |2014|\n",
      "| Midmarket| France| Carretera |        None |      2178|             $3,00 |   $15,00 | $32 670,00 |    $-   | $32 670,00 | $21 780,00 | $10 890,00 |01/06/2014|           6|     June |2014|\n",
      "+----------+-------+-----------+-------------+----------+-------------------+----------+------------+---------+------------+------------+------------+----------+------------+----------+----+\n",
      "only showing top 3 rows\n",
      "\n"
     ]
    }
   ],
   "source": [
    "# Renommer les colonnes en enlevant les espaces\n",
    "new_columns = [col.strip() for col in financial_df.columns]\n",
    "financial_df = financial_df.toDF(*new_columns)\n",
    "\n",
    "financial_df.show(3)\n"
   ]
  },
  {
   "cell_type": "code",
   "execution_count": 128,
   "metadata": {},
   "outputs": [
    {
     "name": "stdout",
     "output_type": "stream",
     "text": [
      "+----------+-------+-----------+-------------+----------+-------------------+----------+-----------+---------+-------+-------+-------+----------+------------+----------+----+\n",
      "|   Segment|Country|    Product|Discount Band|Units Sold|Manufacturing Price|Sale Price|Gross Sales|Discounts|  Sales|   COGS| Profit|      Date|Month Number|Month Name|Year|\n",
      "+----------+-------+-----------+-------------+----------+-------------------+----------+-----------+---------+-------+-------+-------+----------+------------+----------+----+\n",
      "|Government| Canada| Carretera |        None |    1618.5|                3.0|      20.0|    32370.0|    $-   |32370.0|16185.0|16185.0|01/01/2014|           1|  January |2014|\n",
      "|Government|Germany| Carretera |        None |    1321.0|                3.0|      20.0|    26420.0|    $-   |26420.0|13210.0|13210.0|01/01/2014|           1|  January |2014|\n",
      "| Midmarket| France| Carretera |        None |    2178.0|                3.0|      15.0|    32670.0|    $-   |32670.0|21780.0|10890.0|01/06/2014|           6|     June |2014|\n",
      "| Midmarket|Germany| Carretera |        None |     888.0|                3.0|      15.0|    13320.0|    $-   |13320.0| 8880.0| 4440.0|01/06/2014|           6|     June |2014|\n",
      "| Midmarket| Mexico| Carretera |        None |    2470.0|                3.0|      15.0|    37050.0|    $-   |37050.0|24700.0|12350.0|01/06/2014|           6|     June |2014|\n",
      "+----------+-------+-----------+-------------+----------+-------------------+----------+-----------+---------+-------+-------+-------+----------+------------+----------+----+\n",
      "only showing top 5 rows\n",
      "\n"
     ]
    }
   ],
   "source": [
    "from pyspark.sql import functions as F\n",
    "\n",
    "def transform_column_to_float(col_name):\n",
    "    return F.regexp_replace(F.regexp_replace(F.regexp_replace(F.col(col_name), r'\\$', ''), r'\\s', ''), ',', '.').cast('float')\n",
    "\n",
    "columns_to_float = ['Units Sold', 'Manufacturing Price', 'Sale Price', 'Gross Sales', 'Sales', 'COGS', 'Profit']\n",
    "\n",
    "for column in columns_to_float:\n",
    "    financial_df = financial_df.withColumn(column, transform_column_to_float(column))\n",
    "\n",
    "financial_df.show(5)\n"
   ]
  },
  {
   "cell_type": "markdown",
   "metadata": {},
   "source": [
    "Question : Quel est le total des ventes (Sales) par segment (Segment) ?"
   ]
  }
 ],
 "metadata": {
  "kernelspec": {
   "display_name": "Python 3",
   "language": "python",
   "name": "python3"
  },
  "language_info": {
   "codemirror_mode": {
    "name": "ipython",
    "version": 3
   },
   "file_extension": ".py",
   "mimetype": "text/x-python",
   "name": "python",
   "nbconvert_exporter": "python",
   "pygments_lexer": "ipython3",
   "version": "3.12.5"
  }
 },
 "nbformat": 4,
 "nbformat_minor": 2
}
