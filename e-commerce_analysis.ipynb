{
 "cells": [
  {
   "cell_type": "markdown",
   "metadata": {},
   "source": [
    "### Objectif :\n",
    "\n",
    "Créer un pipeline de données de bout en bout pour collecter, transformer, stocker et visualiser les données de ventes d'une plateforme e-commerce, permettant aux équipes marketing et produit d'obtenir des insights en temps réel."
   ]
  },
  {
   "cell_type": "markdown",
   "metadata": {},
   "source": [
    "#### Simulation des données :"
   ]
  },
  {
   "cell_type": "code",
   "execution_count": 3,
   "metadata": {},
   "outputs": [],
   "source": [
    "import pandas as pd\n",
    "import random\n",
    "from faker import Faker"
   ]
  },
  {
   "cell_type": "code",
   "execution_count": 4,
   "metadata": {},
   "outputs": [
    {
     "data": {
      "text/html": [
       "<div>\n",
       "<style scoped>\n",
       "    .dataframe tbody tr th:only-of-type {\n",
       "        vertical-align: middle;\n",
       "    }\n",
       "\n",
       "    .dataframe tbody tr th {\n",
       "        vertical-align: top;\n",
       "    }\n",
       "\n",
       "    .dataframe thead th {\n",
       "        text-align: right;\n",
       "    }\n",
       "</style>\n",
       "<table border=\"1\" class=\"dataframe\">\n",
       "  <thead>\n",
       "    <tr style=\"text-align: right;\">\n",
       "      <th></th>\n",
       "      <th>transaction_id</th>\n",
       "      <th>customer_id</th>\n",
       "      <th>product</th>\n",
       "      <th>category</th>\n",
       "      <th>amount</th>\n",
       "      <th>region</th>\n",
       "      <th>date</th>\n",
       "    </tr>\n",
       "  </thead>\n",
       "  <tbody>\n",
       "    <tr>\n",
       "      <th>0</th>\n",
       "      <td>1</td>\n",
       "      <td>50</td>\n",
       "      <td>prove</td>\n",
       "      <td>Books</td>\n",
       "      <td>96.02</td>\n",
       "      <td>North</td>\n",
       "      <td>2023-12-19</td>\n",
       "    </tr>\n",
       "    <tr>\n",
       "      <th>1</th>\n",
       "      <td>2</td>\n",
       "      <td>11</td>\n",
       "      <td>realize</td>\n",
       "      <td>Clothing</td>\n",
       "      <td>362.47</td>\n",
       "      <td>East</td>\n",
       "      <td>2024-10-27</td>\n",
       "    </tr>\n",
       "  </tbody>\n",
       "</table>\n",
       "</div>"
      ],
      "text/plain": [
       "   transaction_id  customer_id  product  category  amount region        date\n",
       "0               1           50    prove     Books   96.02  North  2023-12-19\n",
       "1               2           11  realize  Clothing  362.47   East  2024-10-27"
      ]
     },
     "execution_count": 4,
     "metadata": {},
     "output_type": "execute_result"
    }
   ],
   "source": [
    "faker = Faker()\n",
    "\n",
    "data = {\n",
    "    \"transaction_id\": [i for i in range(1, 1001)],\n",
    "    \"customer_id\": [random.randint(1, 100) for _ in range(1000)],\n",
    "    \"product\": [faker.word() for _ in range(1000)],\n",
    "    \"category\": [random.choice([\"Electronics\", \"Clothing\", \"Books\", \"Toys\"]) for _ in range(1000)],\n",
    "    \"amount\": [round(random.uniform(10, 500), 2) for _ in range(1000)],\n",
    "    \"region\": [random.choice([\"North\", \"South\", \"East\", \"West\"]) for _ in range(1000)],\n",
    "    \"date\": [faker.date_between(start_date=\"-1y\", end_date=\"today\") for _ in range(1000)],\n",
    "}\n",
    "df = pd.DataFrame(data)\n",
    "df.head(2)"
   ]
  },
  {
   "cell_type": "code",
   "execution_count": null,
   "metadata": {},
   "outputs": [],
   "source": []
  }
 ],
 "metadata": {
  "kernelspec": {
   "display_name": "Python 3",
   "language": "python",
   "name": "python3"
  },
  "language_info": {
   "codemirror_mode": {
    "name": "ipython",
    "version": 3
   },
   "file_extension": ".py",
   "mimetype": "text/x-python",
   "name": "python",
   "nbconvert_exporter": "python",
   "pygments_lexer": "ipython3",
   "version": "3.12.5"
  }
 },
 "nbformat": 4,
 "nbformat_minor": 2
}
